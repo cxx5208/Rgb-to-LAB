{
  "nbformat": 4,
  "nbformat_minor": 0,
  "metadata": {
    "colab": {
      "name": "Untitled2.ipynb",
      "provenance": []
    },
    "kernelspec": {
      "name": "python3",
      "display_name": "Python 3"
    },
    "language_info": {
      "name": "python"
    }
  },
  "cells": [
    {
      "cell_type": "code",
      "execution_count": 1,
      "metadata": {
        "colab": {
          "base_uri": "https://localhost:8080/"
        },
        "id": "6PkzfY_dspJz",
        "outputId": "90057494-9fd7-4954-f15a-541c7d9ed481"
      },
      "outputs": [
        {
          "output_type": "stream",
          "name": "stdout",
          "text": [
            "[42.37465, 0.00277, -0.00524]\n"
          ]
        }
      ],
      "source": [
        "import math\n",
        "\n",
        "def rgb2lab ( inputColor ) :\n",
        "\n",
        "   num = 0\n",
        "   RGB = [0, 0, 0]\n",
        "\n",
        "   for value in inputColor :\n",
        "       value = float(value) / 255\n",
        "\n",
        "       if value > 0.04045 :\n",
        "           value = ( ( value + 0.055 ) / 1.055 ) ** 2.4\n",
        "       else :\n",
        "           value = value / 12.92\n",
        "\n",
        "       RGB[num] = value * 100\n",
        "       num = num + 1\n",
        "\n",
        "   XYZ = [0, 0, 0,]\n",
        "\n",
        "   X = RGB [0] * 0.4124 + RGB [1] * 0.3576 + RGB [2] * 0.1805\n",
        "   Y = RGB [0] * 0.2126 + RGB [1] * 0.7152 + RGB [2] * 0.0722\n",
        "   Z = RGB [0] * 0.0193 + RGB [1] * 0.1192 + RGB [2] * 0.9505\n",
        "   XYZ[ 0 ] = round( X, 4 )\n",
        "   XYZ[ 1 ] = round( Y, 4 )\n",
        "   XYZ[ 2 ] = round( Z, 4 )\n",
        "\n",
        "   XYZ[ 0 ] = float( XYZ[ 0 ] ) / 95.047         #D65 MODEL\n",
        "   XYZ[ 1 ] = float( XYZ[ 1 ] ) / 100.0\n",
        "   XYZ[ 2 ] = float( XYZ[ 2 ] ) / 108.883\n",
        "\n",
        "   num = 0\n",
        "   for value in XYZ :\n",
        "\n",
        "       if value > 0.008856 :\n",
        "           value = math.pow(value,1.0/3)\n",
        "       else :\n",
        "           value = ( 7.787 * value ) + ( 16 / 116 ) # k/116 = 7.787 where k = 903.3\n",
        "\n",
        "       XYZ[num] = value\n",
        "       num = num + 1\n",
        "\n",
        "   Lab = [0, 0, 0]\n",
        "\n",
        "   L = (116 * XYZ[ 1 ] ) - 16\n",
        "   a = 500 * ( XYZ[ 0 ] - XYZ[ 1 ] )\n",
        "   b = 200 * ( XYZ[ 1 ] - XYZ[ 2 ] )\n",
        "\n",
        "   Lab [ 0 ] = round( L, 5 )\n",
        "   Lab [ 1 ] = round( a, 5 )\n",
        "   Lab [ 2 ] = round( b, 5 )\n",
        "\n",
        "   return Lab\n",
        "\n",
        "print(rgb2lab([100,100,100]))"
      ]
    },
    {
      "cell_type": "code",
      "source": [
        ""
      ],
      "metadata": {
        "id": "c7sp9VRqtp7W"
      },
      "execution_count": null,
      "outputs": []
    }
  ]
}